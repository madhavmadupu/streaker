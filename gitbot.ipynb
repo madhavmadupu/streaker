{
 "cells": [
  {
   "cell_type": "code",
   "execution_count": 2,
   "metadata": {},
   "outputs": [
    {
     "name": "stdout",
     "output_type": "stream",
     "text": [
      "Collecting GitPython\n",
      "  Downloading GitPython-3.1.40-py3-none-any.whl.metadata (12 kB)\n",
      "Collecting gitdb<5,>=4.0.1 (from GitPython)\n",
      "  Downloading gitdb-4.0.11-py3-none-any.whl.metadata (1.2 kB)\n",
      "Collecting smmap<6,>=3.0.1 (from gitdb<5,>=4.0.1->GitPython)\n",
      "  Downloading smmap-5.0.1-py3-none-any.whl.metadata (4.3 kB)\n",
      "Downloading GitPython-3.1.40-py3-none-any.whl (190 kB)\n",
      "   ---------------------------------------- 0.0/190.6 kB ? eta -:--:--\n",
      "   -------- ------------------------------ 41.0/190.6 kB 991.0 kB/s eta 0:00:01\n",
      "   ---------------------------------------- 190.6/190.6 kB 2.3 MB/s eta 0:00:00\n",
      "Downloading gitdb-4.0.11-py3-none-any.whl (62 kB)\n",
      "   ---------------------------------------- 0.0/62.7 kB ? eta -:--:--\n",
      "   ---------------------------------------- 62.7/62.7 kB ? eta 0:00:00\n",
      "Downloading smmap-5.0.1-py3-none-any.whl (24 kB)\n",
      "Installing collected packages: smmap, gitdb, GitPython\n",
      "Successfully installed GitPython-3.1.40 gitdb-4.0.11 smmap-5.0.1\n",
      "Note: you may need to restart the kernel to use updated packages.\n"
     ]
    }
   ],
   "source": [
    "pip install GitPython"
   ]
  },
  {
   "cell_type": "code",
   "execution_count": 6,
   "metadata": {},
   "outputs": [
    {
     "data": {
      "text/plain": [
       "[<git.remote.PushInfo at 0x1a1645803b0>]"
      ]
     },
     "execution_count": 6,
     "metadata": {},
     "output_type": "execute_result"
    }
   ],
   "source": [
    "from datetime import datetime, timezone\n",
    "from git import Repo\n",
    "from git import Actor\n",
    "\n",
    "# Path to your local repository\n",
    "repo_path = './'\n",
    "\n",
    "# Initialize a repository object\n",
    "repo = Repo(repo_path)\n",
    "\n",
    "# Get the current branch\n",
    "branch = repo.active_branch\n",
    "\n",
    "# Make changes and commit\n",
    "with open(f'{repo_path}/example_file.txt', 'a') as file:\n",
    "    file.write('Adding content to file\\n')\n",
    "\n",
    "# Stage changes\n",
    "repo.index.add(['example_file.txt'])\n",
    "\n",
    "# Commit the changes with today's date\n",
    "commit_date = datetime.now(timezone.utc)  # Use the current date and time with timezone information\n",
    "commit_message = 'Adding content to file'\n",
    "\n",
    "# Set author and committer information\n",
    "author = Actor(\"madhavmadupu\", \"madhav.madupu@gmail.com\")\n",
    "committer = Actor(\"madhavmadupu\", \"madhav.madupu@gmail.com\")\n",
    "\n",
    "# Commit with author and committer details\n",
    "repo.index.commit(commit_message, author=author, committer=committer, author_date=commit_date, commit_date=commit_date)\n",
    "\n",
    "# Push the changes to remote\n",
    "origin = repo.remote(name='origin')\n",
    "origin.push(branch)\n"
   ]
  },
  {
   "cell_type": "code",
   "execution_count": null,
   "metadata": {},
   "outputs": [],
   "source": []
  }
 ],
 "metadata": {
  "kernelspec": {
   "display_name": "general",
   "language": "python",
   "name": "python3"
  },
  "language_info": {
   "codemirror_mode": {
    "name": "ipython",
    "version": 3
   },
   "file_extension": ".py",
   "mimetype": "text/x-python",
   "name": "python",
   "nbconvert_exporter": "python",
   "pygments_lexer": "ipython3",
   "version": "3.10.13"
  }
 },
 "nbformat": 4,
 "nbformat_minor": 2
}
